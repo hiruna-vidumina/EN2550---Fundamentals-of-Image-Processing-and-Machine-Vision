{
 "cells": [
  {
   "cell_type": "markdown",
   "metadata": {
    "id": "9RXHGJgtrpm6"
   },
   "source": [
    "# 1.Imaging a Point Cloud Using a Camera Consructed by Specifying Extrinsic and Intrinsic Parameters"
   ]
  },
  {
   "cell_type": "code",
   "execution_count": 13,
   "metadata": {
    "colab": {
     "base_uri": "https://localhost:8080/",
     "height": 363
    },
    "id": "g_zQRcsHnjyV",
    "outputId": "f3379ab4-97d0-4659-aec9-3f39ebcfb92f"
   },
   "outputs": [
    {
     "name": "stdout",
     "output_type": "stream",
     "text": [
      "geometry::PointCloud with 1335 points.\n",
      "(1335, 3)\n",
      "[[  896.994     48.7601 -3917.7344]\n",
      " [  906.593     48.7601 -3919.2548]\n",
      " [  907.539     55.4902 -3916.3419]\n",
      " ...\n",
      " [  806.665    627.363  -3994.8852]\n",
      " [  806.665    654.432  -3992.48  ]\n",
      " [  806.665    681.537  -3990.5126]]\n"
     ]
    },
    {
     "data": {
      "image/png": "[encoded data removed]",
      "text/plain": [
       "<Figure size 432x288 with 1 Axes>"
      ]
     },
     "metadata": {
      "needs_background": "light"
     },
     "output_type": "display_data"
    }
   ],
   "source": [
    "# https://people.sc.fsu.edu/~jburkardt/data/ply/ply.html\n",
    "#https://stackoverflow.com/questions/50965673/python-display-3d-point-cloud\n",
    "\n",
    "#%matplotlib inline\n",
    "import numpy as np\n",
    "import open3d as o3d\n",
    "import numpy.matlib\n",
    "import scipy\n",
    "import scipy.optimize\n",
    "import matplotlib.pyplot as plt\n",
    "\n",
    "pcd = o3d.io.read_point_cloud(\"airplane.ply\") # Read the point cloud\n",
    "print(pcd)\n",
    "points = np.asarray(pcd.points)\n",
    "# points = points[0:5, :]\n",
    "print(points.shape)\n",
    "o3d.visualization.draw_geometries([pcd])\n",
    "fig, ax = plt.subplots(1,1, sharex=True, sharey=True)\n",
    "# ax.scatter(points[:,0], points[:,1])\n",
    "\n",
    "ones = np.ones((points.shape[0], 1))\n",
    "points = np.concatenate((points, ones), axis=1)\n",
    "\n",
    "P = np.array([[1., 0., 0., 0.],\n",
    "              [0., 1., 0., 0.],\n",
    "              [0., 0., 1., 0.]])\n",
    "\n",
    "# Rotation matrix R is an orthonormal marix\n",
    "R = np.array([[1., 0., 0.],\n",
    "              [0., 1., 0.],\n",
    "              [0., 0., 1.]])\n",
    "K = np.array([[1., 0., 0.],\n",
    "              [0., 1., 0.],\n",
    "              [0., 0., 1.]])\n",
    "t = np.array([[0.],\n",
    "              [0.],\n",
    "              [-4000.]])\n",
    "P1 = np.matmul(K, np.concatenate((R, t), axis=1))# P = K[R|t] = K[R|-RC]\n",
    "\n",
    "R = np.array([[0., 1., 0.],\n",
    "              [1., 0., 0.],\n",
    "              [0., 0., 1.]])\n",
    "K = np.array([[2., 0., 0.],\n",
    "              [0., 2., 0.],\n",
    "              [0., 0., 1.]])\n",
    "P2 = np.matmul(K, np.concatenate((R, t), axis=1))\n",
    "\n",
    "transfromed = np.matmul(P1, points.T).T\n",
    "print(transfromed)\n",
    "transfromed = transfromed/np.matlib.repmat(transfromed[:,2], 3, 1).T\n",
    "ax.scatter(transfromed[:,0], transfromed[:,1])\n",
    "\n",
    "transfromed = np.matmul(P2, points.T).T\n",
    "transfromed = transfromed/np.matlib.repmat(transfromed[:,2], 3, 1).T\n",
    "ax.scatter(transfromed[:,0], transfromed[:,1])\n",
    "ax.axis('equal')\n",
    "plt.show()"
   ]
  },
  {
   "cell_type": "code",
   "execution_count": 14,
   "metadata": {
    "id": "KQjVpTvp2tTK"
   },
   "outputs": [
    {
     "name": "stdout",
     "output_type": "stream",
     "text": [
      "P1\n",
      " [[ 1.e+00  0.e+00  0.e+00  0.e+00]\n",
      " [ 0.e+00  1.e+00  0.e+00  0.e+00]\n",
      " [ 0.e+00  0.e+00  1.e+00 -4.e+03]]\n",
      "P2\n",
      " [[ 0.e+00  2.e+00  0.e+00  0.e+00]\n",
      " [ 2.e+00  0.e+00  0.e+00  0.e+00]\n",
      " [ 0.e+00  0.e+00  1.e+00 -4.e+03]]\n"
     ]
    }
   ],
   "source": [
    "np.set_printoptions(precision=4)\n",
    "print('P1\\n', P1)\n",
    "print('P2\\n', P2)"
   ]
  },
  {
   "cell_type": "markdown",
   "metadata": {
    "id": "DeZhC1RB20ZG"
   },
   "source": [
    "# 2.Recovering K, R, and C"
   ]
  },
  {
   "cell_type": "code",
   "execution_count": 15,
   "metadata": {
    "id": "RSVBt5IJ2u8M"
   },
   "outputs": [],
   "source": [
    "# RQ Decomposition\n",
    "# http://ksimek.github.io/2012/08/14/decompose/\n",
    "def rq(M):\n",
    "  Q, R = np.linalg.qr(np.flipud(M).T)\n",
    "# print(Q)\n",
    "# print(R)\n",
    "  R = np.flipud(R.T)\n",
    "  R = np.fliplr(R)\n",
    "  Q = Q.T;\n",
    "  Q = np.flipud(Q)\n",
    "  return R, Q"
   ]
  },
  {
   "cell_type": "code",
   "execution_count": 16,
   "metadata": {
    "id": "gs93pScR3K06"
   },
   "outputs": [
    {
     "name": "stdout",
     "output_type": "stream",
     "text": [
      "[[2. 0. 0.]\n",
      " [0. 2. 0.]\n",
      " [0. 0. 1.]]\n",
      "[[0. 1. 0.]\n",
      " [1. 0. 0.]\n",
      " [0. 0. 1.]]\n"
     ]
    }
   ],
   "source": [
    "# P = [M|-MC]\n",
    "# P = K[R|-RC]\n",
    "M = P2[:, 0:3]\n",
    "C = np.linalg.inv(M)@P1[:,3] # camera center in world coordinates\n",
    "K, R = rq(M)\n",
    "K, R = scipy.linalg.rq(M)\n",
    "\n",
    "# make diagonal of K positive\n",
    "T = np.diag(np.sign(np.diag(K)));\n",
    "\n",
    "K = K @ T;\n",
    "R = T @ R; # (T is its own inverse)\n",
    "print(K)\n",
    "print(R)"
   ]
  },
  {
   "cell_type": "code",
   "execution_count": 17,
   "metadata": {
    "id": "r1zC6aCn3TS7"
   },
   "outputs": [
    {
     "name": "stdout",
     "output_type": "stream",
     "text": [
      "[[2. 0. 0.]\n",
      " [0. 2. 0.]\n",
      " [0. 0. 1.]]\n",
      "[[0. 1. 0.]\n",
      " [1. 0. 0.]\n",
      " [0. 0. 1.]]\n"
     ]
    }
   ],
   "source": [
    "# make diagonal of K positive\n",
    "T = np.diag(np.sign(np.diag(K)));\n",
    "K = K @ T;\n",
    "R = T @ R; # (T is its own inverse)\n",
    "print(K)\n",
    "print(R)"
   ]
  },
  {
   "cell_type": "code",
   "execution_count": 18,
   "metadata": {
    "id": "v_IvDcMs3YpD"
   },
   "outputs": [],
   "source": [
    "# P from Hartley and Zisserman Example 6.2\n",
    "Phz = np.array(\n",
    "    [[3.53553e+2, 3.39645e+2, 2.77744e+2, -1.44946e+6],\n",
    "     [-1.03528e+2, 2.33212e+1, 4.59607e+2, -6.32525e+5],\n",
    "     [7.07107e-1, -3.53553e-1, 6.12372e-1, -9.18559e+2]])"
   ]
  },
  {
   "cell_type": "code",
   "execution_count": 19,
   "metadata": {
    "id": "yWh1s0ue3ob2"
   },
   "outputs": [
    {
     "name": "stdout",
     "output_type": "stream",
     "text": [
      "[1000.0007 2000.002  1500.0003]\n",
      "[[468.1647  91.2251 300.    ]\n",
      " [  0.     427.2009 199.9999]\n",
      " [  0.       0.       1.    ]]\n",
      "[[ 0.4138  0.9091  0.0471]\n",
      " [-0.5734  0.2201  0.7892]\n",
      " [ 0.7071 -0.3536  0.6124]]\n"
     ]
    }
   ],
   "source": [
    "# P = [M|-MC]\n",
    "# P = K[R|-RC]\n",
    "M = Phz[:, 0:3]\n",
    "C = -np.linalg.inv(M)@Phz[:,3] # camera center in world coordinates\n",
    "K, R = rq(M)\n",
    "K, R = scipy.linalg.rq(M)\n",
    "\n",
    "# make diagonal of K positive\n",
    "T = np.diag(np.sign(np.diag(K)));\n",
    "\n",
    "K = K @ T;\n",
    "R = T @ R; # (T is its own inverse)\n",
    "print(C)\n",
    "print(K)\n",
    "print(R)"
   ]
  },
  {
   "cell_type": "markdown",
   "metadata": {},
   "source": [
    "# SVD Test"
   ]
  },
  {
   "cell_type": "code",
   "execution_count": 20,
   "metadata": {},
   "outputs": [],
   "source": [
    "A = np.array([[1, 2, 3], [4, 5, 6], [7, 8, 9]])\n",
    "U, S, V = np.linalg.svd(A)"
   ]
  },
  {
   "cell_type": "code",
   "execution_count": 21,
   "metadata": {},
   "outputs": [
    {
     "data": {
      "text/plain": [
       "array([1.6848e+01, 1.0684e+00, 3.3348e-16])"
      ]
     },
     "execution_count": 21,
     "metadata": {},
     "output_type": "execute_result"
    }
   ],
   "source": [
    "S"
   ]
  }
 ],
 "metadata": {
  "colab": {
   "collapsed_sections": [],
   "name": "Single Widew Geometry.ipynb",
   "provenance": []
  },
  "kernelspec": {
   "display_name": "Python 3",
   "language": "python",
   "name": "python3"
  },
  "language_info": {
   "codemirror_mode": {
    "name": "ipython",
    "version": 3
   },
   "file_extension": ".py",
   "mimetype": "text/x-python",
   "name": "python",
   "nbconvert_exporter": "python",
   "pygments_lexer": "ipython3",
   "version": "3.7.4"
  },
  "metadata": {
   "interpreter": {
    "hash": "3073a49219fb3afe5764de15e36ed149cc46b76dbb8cd330f66fd11cec46daef"
   }
  }
 },
 "nbformat": 4,
 "nbformat_minor": 4
}
