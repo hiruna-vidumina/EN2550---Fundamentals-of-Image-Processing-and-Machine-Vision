{
 "cells": [
  {
   "cell_type": "markdown",
   "metadata": {},
   "source": [
    "EN2550 - Funadamentals of Image Processing and Machine Vision\r\n",
    "Assignment 04\r\n",
    "Name         : Rathnayaka R.G.H.V.\r\n",
    "Index Number : 180529E"
   ]
  },
  {
   "cell_type": "code",
   "execution_count": 10,
   "metadata": {},
   "outputs": [],
   "source": [
    "# Importing required libraries\r\n",
    "import cv2 as cv\r\n",
    "import numpy as np\r\n",
    "import matplotlib.pyplot as plt\r\n",
    "import tensorflow as tf\r\n",
    "from tensorflow import keras\r\n",
    "from tensorflow.keras import layers,models"
   ]
  },
  {
   "cell_type": "code",
   "execution_count": 11,
   "metadata": {},
   "outputs": [],
   "source": [
    "# Defining a function for data preprocessing\r\n",
    "def preproc(norm,reshape):\r\n",
    "    (x_train, y_train), (x_test, y_test) = keras.datasets.cifar10.load_data() # Importing data set CIFAR10\r\n",
    "    K = len(np.unique(y_train)) # Classes np.unique Find the unique elements of an array\r\n",
    "    Ntr = x_train.shape[0] # Number of training data\r\n",
    "    Nte = x_test.shape[0] # Number of testing data\r\n",
    "    Din = x_train.shape[1]*x_train.shape[2]*x_train.shape[3] # CIFAR10\r\n",
    "    if norm:\r\n",
    "        # Normalize pixel values\r\n",
    "        x_train, x_test = x_train / 255.0, x_test / 255.0\r\n",
    "    \r\n",
    "    # Centering pixel values\r\n",
    "    mean_image = np.mean(x_train, axis=0)\r\n",
    "    x_train = x_train - mean_image\r\n",
    "    x_test = x_test - mean_image\r\n",
    "\r\n",
    "    # One hot encoding the labels\r\n",
    "    y_train = tf.keras.utils.to_categorical(y_train, num_classes=K)\r\n",
    "    y_test = tf.keras.utils.to_categorical(y_test, num_classes=K)\r\n",
    "\r\n",
    "    # Flatterning the input images and changing the data type\r\n",
    "    if reshape:\r\n",
    "        x_train = np.reshape(x_train,(Ntr,Din))\r\n",
    "        x_test = np.reshape(x_test,(Nte,Din))\r\n",
    "    \r\n",
    "    x_train = x_train.astype('float32')\r\n",
    "    x_test = x_test.astype('float32')\r\n",
    "    print('x_train:', x_train.shape)\r\n",
    "    print('x_test:', x_test.shape)\r\n",
    "    print('y_train:', y_train.shape)\r\n",
    "    print('y_test:', y_test.shape)\r\n",
    "    return x_train,y_train,x_test,y_test"
   ]
  },
  {
   "cell_type": "code",
   "execution_count": 12,
   "metadata": {},
   "outputs": [],
   "source": [
    "# Defining regularized loss function\r\n",
    "def regloss(y_pred,y,w1,w2=0):\r\n",
    "    batch_size=y_pred.shape[0] # Determining the number of input data\r\n",
    "    loss=(1/(batch_size))*(np.square(y-y_pred)).sum()+reg*(np.sum(w1*w1)+np.sum(w2*w2))\r\n",
    "    return loss"
   ]
  },
  {
   "cell_type": "code",
   "execution_count": 13,
   "metadata": {},
   "outputs": [],
   "source": [
    "# Defining accuracy function\r\n",
    "def accuracy(y_pred,y):\r\n",
    "    batch_size=y_pred.shape[0] # Determining the number of input data\r\n",
    "    K=y_pred.shape[1] # Determining number of classes\r\n",
    "    acc=1-(1/(batch_size*K))*(np.abs(np.argmax(y,axis=1)-np.argmax(y_pred,axis=1))).sum()\r\n",
    "    return acc"
   ]
  },
  {
   "cell_type": "markdown",
   "metadata": {},
   "source": [
    "1.Linear Classifier"
   ]
  },
  {
   "cell_type": "code",
   "execution_count": 14,
   "metadata": {},
   "outputs": [
    {
     "name": "stdout",
     "output_type": "stream",
     "text": [
      "x_train: (50000, 3072)\n",
      "x_test: (10000, 3072)\n",
      "y_train: (50000, 10)\n",
      "y_test: (10000, 10)\n",
      "epoch 0/300: loss= 0.999993 ,test loss= 0.999986 ,train accracy= 0.662504 , test accuracy= 0.666190 \n",
      "epoch 10/300: loss= 0.876637 ,test loss= 0.876234 ,train accracy= 0.756396 , test accuracy= 0.758150 \n",
      "epoch 20/300: loss= 0.842540 ,test loss= 0.842415 ,train accracy= 0.762592 , test accuracy= 0.767800 \n",
      "epoch 30/300: loss= 0.823616 ,test loss= 0.823713 ,train accracy= 0.766524 , test accuracy= 0.770560 \n",
      "epoch 40/300: loss= 0.812389 ,test loss= 0.812706 ,train accracy= 0.768586 , test accuracy= 0.771440 \n",
      "epoch 50/300: loss= 0.805426 ,test loss= 0.805969 ,train accracy= 0.770400 , test accuracy= 0.772920 \n",
      "epoch 60/300: loss= 0.800906 ,test loss= 0.801678 ,train accracy= 0.771524 , test accuracy= 0.773400 \n",
      "epoch 70/300: loss= 0.797822 ,test loss= 0.798823 ,train accracy= 0.772758 , test accuracy= 0.773690 \n",
      "epoch 80/300: loss= 0.795606 ,test loss= 0.796834 ,train accracy= 0.773796 , test accuracy= 0.774310 \n",
      "epoch 90/300: loss= 0.793931 ,test loss= 0.795380 ,train accracy= 0.774384 , test accuracy= 0.774210 \n",
      "epoch 100/300: loss= 0.792606 ,test loss= 0.794270 ,train accracy= 0.775006 , test accuracy= 0.773780 \n",
      "epoch 110/300: loss= 0.791516 ,test loss= 0.793387 ,train accracy= 0.775300 , test accuracy= 0.773700 \n",
      "epoch 120/300: loss= 0.790591 ,test loss= 0.792663 ,train accracy= 0.776104 , test accuracy= 0.773160 \n",
      "epoch 130/300: loss= 0.789786 ,test loss= 0.792051 ,train accracy= 0.776608 , test accuracy= 0.773640 \n",
      "epoch 140/300: loss= 0.789073 ,test loss= 0.791524 ,train accracy= 0.777026 , test accuracy= 0.773600 \n",
      "epoch 150/300: loss= 0.788433 ,test loss= 0.791063 ,train accracy= 0.777238 , test accuracy= 0.773520 \n",
      "epoch 160/300: loss= 0.787852 ,test loss= 0.790654 ,train accracy= 0.777288 , test accuracy= 0.773670 \n",
      "epoch 170/300: loss= 0.787320 ,test loss= 0.790289 ,train accracy= 0.777772 , test accuracy= 0.773630 \n"
     ]
    }
   ],
   "source": [
    "# Defining linear Classifier function\r\n",
    "def linclas(x_train,y_train,x_test,y_test,lr,lr_decay,reg):\r\n",
    "    Ntr = x_train.shape[0] # Number of training data\r\n",
    "    Nte = x_test.shape[0] # Number of testing data\r\n",
    "    Din = x_test.shape[1]\r\n",
    "    K = y_test.shape[1]\r\n",
    "    batch_size=x_train.shape[0]\r\n",
    "\r\n",
    "    loss_history = []\r\n",
    "    loss_history_test = []\r\n",
    "    train_acc_history = []\r\n",
    "    val_acc_history = []\r\n",
    "    seed = 0\r\n",
    "    rng = np.random.default_rng(seed=seed)\r\n",
    "\r\n",
    "    # Initializing weight and bias arrays\r\n",
    "    Din=x_train.shape[1]\r\n",
    "    std=1e-5\r\n",
    "    w1 = std*np.random.randn(Din, K)\r\n",
    "    b1 = np.zeros(K)\r\n",
    "\r\n",
    "    for t in range(iterations):\r\n",
    "        # Shuffling the training data set to randomize the training process.To prevent overfitting\r\n",
    "        indices = np.arange(Ntr)\r\n",
    "        rng.shuffle(indices)\r\n",
    "        x=x_train[indices]\r\n",
    "        y=y_train[indices]\r\n",
    "\r\n",
    "        # Forward pass\r\n",
    "        y_pred=x.dot(w1)+b1\r\n",
    "        y_pred_test=x_test.dot(w1)+b1\r\n",
    "\r\n",
    "        # Calculating loss\r\n",
    "        train_loss=regloss(y_pred,y,w1)\r\n",
    "        test_loss=regloss(y_pred_test,y_test,w1)\r\n",
    "        loss_history.append(train_loss)\r\n",
    "        loss_history_test.append(test_loss)\r\n",
    "        \r\n",
    "        # Calculating accuracy\r\n",
    "        train_acc=accuracy(y_pred,y)\r\n",
    "        train_acc_history.append(train_acc)\r\n",
    "\r\n",
    "        test_acc=accuracy(y_pred_test,y_test)\r\n",
    "        val_acc_history.append(test_acc)\r\n",
    "\r\n",
    "        if t%10 == 0:\r\n",
    "            print('epoch %d/%d: loss= %f ,test loss= %f ,train accracy= %f , test accuracy= %f ' % (t,iterations,train_loss,test_loss,train_acc,test_acc))\r\n",
    "\r\n",
    "        # Backward pass\r\n",
    "        dy_pred=(1./batch_size)*2.0*(y_pred-y)\r\n",
    "        dw1=x.T.dot(dy_pred)+reg*w1\r\n",
    "        db1=dy_pred.sum(axis=0)\r\n",
    "\r\n",
    "        # Updating parameters\r\n",
    "        w1-=lr*dw1\r\n",
    "        b1-=lr*db1\r\n",
    "        lr*=lr_decay\r\n",
    "    return w1,b1,loss_history,loss_history_test,train_acc_history,val_acc_history\r\n",
    "\r\n",
    "# Defining parameters and running the linear classifier\r\n",
    "iterations = 300\r\n",
    "lr = 1.4e-2\r\n",
    "lr_decay= 0.999\r\n",
    "reg = 5e-6 # Lamda(regularization constant for the loss function)\r\n",
    "x_train,y_train,x_test,y_test=preproc(norm=True,reshape=True)\r\n",
    "w1,b1,loss_history,loss_history_test,train_acc_history,val_acc_history=linclas(x_train,y_train,x_test,y_test,lr,lr_decay,reg)"
   ]
  },
  {
   "cell_type": "code",
   "execution_count": null,
   "metadata": {},
   "outputs": [],
   "source": [
    "# Ploting metrics\r\n",
    "lists=[loss_history,loss_history_test,train_acc_history,val_acc_history]\r\n",
    "    titiles=[\"training loss\",\"testing loss\",\"training accuracy\",\"testing accuracy\"]\r\n",
    "    fig,ax=plt.subplots(1,4,figsize=(25,5))\r\n",
    "    for i in range(len(lists)):\r\n",
    "        if compare:\r\n",
    "            for j in range(n):\r\n",
    "                ax[i].plot(lists[i][j],label=labels[j])\r\n",
    "            ax[i].legend()  \r\n",
    "        else:\r\n",
    "            ax[i].plot(lists[i])\r\n",
    "        ax[i].set_ylabel(titiles[i])\r\n",
    "        ax[i].set_xlabel(\"epoch\")\r\n",
    "        ax[i].plot()"
   ]
  }
 ],
 "metadata": {
  "kernelspec": {
   "display_name": "Python 3",
   "language": "python",
   "name": "python3"
  },
  "language_info": {
   "codemirror_mode": {
    "name": "ipython",
    "version": 3
   },
   "file_extension": ".py",
   "mimetype": "text/x-python",
   "name": "python",
   "nbconvert_exporter": "python",
   "pygments_lexer": "ipython3",
   "version": "3.7.4"
  },
  "orig_nbformat": 2
 },
 "nbformat": 4,
 "nbformat_minor": 2
}