# Importing required libraries
import cv2 as cv
import numpy as np
import matplotlib.pyplot as plt
import tensorflow as tf
from tensorflow import keras
from tensorflow.keras import layers,models

# Defining a function for data pre-processing
def preproc(norm,reshape):
    (x_train, y_train), (x_test, y_test) = keras.datasets.cifar10.load_data() # Importing data set
    K = len(np.unique(y_train)) # Classes np.unique Find the unique elements of an array
    Ntr = x_train.shape[0] # Number of training data
    Nte = x_test.shape[0] # Number of testing data
    Din = x_train.shape[1]*x_train.shape[2]*x_train.shape[3] # CIFAR10
    if norm:
        # Normalize pixel values
        x_train, x_test = x_train / 255.0, x_test / 255.0
    
    # Centering pixel values
    mean_image = np.mean(x_train, axis=0)
    x_train = x_train - mean_image
    x_test = x_test - mean_image

    # One hot encoding the labels
    y_train = tf.keras.utils.to_categorical(y_train, num_classes=K)
    y_test = tf.keras.utils.to_categorical(y_test, num_classes=K)

    # Flatterning the input images and changing the data type
    if reshape:
        x_train = np.reshape(x_train,(Ntr,Din))
        x_test = np.reshape(x_test,(Nte,Din))
    
    x_train = x_train.astype('float32')
    x_test = x_test.astype('float32')
    print('x_train:', x_train.shape)
    print('x_test:', x_test.shape)
    print('y_train:', y_train.shape)
    print('y_test:', y_test.shape)
    return x_train,y_train,x_test,y_test
